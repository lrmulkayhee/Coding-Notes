{
 "cells": [
  {
   "cell_type": "markdown",
   "id": "5b2f8631",
   "metadata": {},
   "source": [
    "aka extreme gradient boosting"
   ]
  }
 ],
 "metadata": {
  "language_info": {
   "name": "python"
  }
 },
 "nbformat": 4,
 "nbformat_minor": 5
}
