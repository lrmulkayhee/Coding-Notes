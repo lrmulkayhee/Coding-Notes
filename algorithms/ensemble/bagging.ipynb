{
 "cells": [
  {
   "cell_type": "markdown",
   "id": "f5ce39b1",
   "metadata": {},
   "source": [
    "aka bootstrap aggregation"
   ]
  }
 ],
 "metadata": {
  "language_info": {
   "name": "python"
  }
 },
 "nbformat": 4,
 "nbformat_minor": 5
}
