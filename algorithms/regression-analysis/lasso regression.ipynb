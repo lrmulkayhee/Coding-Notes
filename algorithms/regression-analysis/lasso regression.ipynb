{
 "cells": [
  {
   "cell_type": "markdown",
   "id": "505c86d6",
   "metadata": {},
   "source": [
    "stands for least absolute selection and shrinkage operator"
   ]
  }
 ],
 "metadata": {
  "language_info": {
   "name": "python"
  }
 },
 "nbformat": 4,
 "nbformat_minor": 5
}
